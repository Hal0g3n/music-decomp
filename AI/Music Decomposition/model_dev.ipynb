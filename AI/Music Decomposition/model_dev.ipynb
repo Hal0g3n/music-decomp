{
 "cells": [
  {
   "cell_type": "code",
   "execution_count": 1,
   "metadata": {
    "collapsed": true
   },
   "outputs": [
    {
     "name": "stdout",
     "output_type": "stream",
     "text": [
      "Requirement already satisfied: tensorflow in c:\\users\\user\\anaconda3\\lib\\site-packages (2.8.0)\n",
      "Requirement already satisfied: tensorflow-io-gcs-filesystem>=0.23.1 in c:\\users\\user\\anaconda3\\lib\\site-packages (from tensorflow) (0.24.0)\n",
      "Requirement already satisfied: grpcio<2.0,>=1.24.3 in c:\\users\\user\\anaconda3\\lib\\site-packages (from tensorflow) (1.44.0)\n",
      "Requirement already satisfied: keras<2.9,>=2.8.0rc0 in c:\\users\\user\\anaconda3\\lib\\site-packages (from tensorflow) (2.8.0)\n",
      "Requirement already satisfied: setuptools in c:\\users\\user\\anaconda3\\lib\\site-packages (from tensorflow) (61.2.0)\n",
      "Requirement already satisfied: h5py>=2.9.0 in c:\\users\\user\\anaconda3\\lib\\site-packages (from tensorflow) (2.10.0)\n",
      "Requirement already satisfied: tf-estimator-nightly==2.8.0.dev2021122109 in c:\\users\\user\\anaconda3\\lib\\site-packages (from tensorflow) (2.8.0.dev2021122109)\n",
      "Requirement already satisfied: flatbuffers>=1.12 in c:\\users\\user\\anaconda3\\lib\\site-packages (from tensorflow) (2.0)\n",
      "Requirement already satisfied: google-pasta>=0.1.1 in c:\\users\\user\\anaconda3\\lib\\site-packages (from tensorflow) (0.2.0)\n",
      "Requirement already satisfied: absl-py>=0.4.0 in c:\\users\\user\\anaconda3\\lib\\site-packages (from tensorflow) (1.0.0)\n",
      "Requirement already satisfied: numpy>=1.20 in c:\\users\\user\\anaconda3\\lib\\site-packages (from tensorflow) (1.20.1)\n",
      "Requirement already satisfied: tensorboard<2.9,>=2.8 in c:\\users\\user\\anaconda3\\lib\\site-packages (from tensorflow) (2.8.0)\n",
      "Requirement already satisfied: astunparse>=1.6.0 in c:\\users\\user\\anaconda3\\lib\\site-packages (from tensorflow) (1.6.3)\n",
      "Requirement already satisfied: protobuf>=3.9.2 in c:\\users\\user\\anaconda3\\lib\\site-packages (from tensorflow) (3.19.4)\n",
      "Requirement already satisfied: wrapt>=1.11.0 in c:\\users\\user\\anaconda3\\lib\\site-packages (from tensorflow) (1.12.1)\n",
      "Requirement already satisfied: six>=1.12.0 in c:\\users\\user\\anaconda3\\lib\\site-packages (from tensorflow) (1.15.0)\n",
      "Requirement already satisfied: gast>=0.2.1 in c:\\users\\user\\anaconda3\\lib\\site-packages (from tensorflow) (0.5.3)\n",
      "Requirement already satisfied: keras-preprocessing>=1.1.1 in c:\\users\\user\\anaconda3\\lib\\site-packages (from tensorflow) (1.1.2)\n",
      "Requirement already satisfied: opt-einsum>=2.3.2 in c:\\users\\user\\anaconda3\\lib\\site-packages (from tensorflow) (3.3.0)\n",
      "Requirement already satisfied: typing-extensions>=3.6.6 in c:\\users\\user\\anaconda3\\lib\\site-packages (from tensorflow) (3.7.4.3)\n",
      "Requirement already satisfied: libclang>=9.0.1 in c:\\users\\user\\anaconda3\\lib\\site-packages (from tensorflow) (13.0.0)\n",
      "Requirement already satisfied: termcolor>=1.1.0 in c:\\users\\user\\anaconda3\\lib\\site-packages (from tensorflow) (1.1.0)\n",
      "Requirement already satisfied: wheel<1.0,>=0.23.0 in c:\\users\\user\\anaconda3\\lib\\site-packages (from astunparse>=1.6.0->tensorflow) (0.36.2)\n",
      "Requirement already satisfied: markdown>=2.6.8 in c:\\users\\user\\anaconda3\\lib\\site-packages (from tensorboard<2.9,>=2.8->tensorflow) (3.3.6)\n",
      "Requirement already satisfied: google-auth<3,>=1.6.3 in c:\\users\\user\\anaconda3\\lib\\site-packages (from tensorboard<2.9,>=2.8->tensorflow) (2.6.2)\n",
      "Requirement already satisfied: tensorboard-data-server<0.7.0,>=0.6.0 in c:\\users\\user\\anaconda3\\lib\\site-packages (from tensorboard<2.9,>=2.8->tensorflow) (0.6.1)\n",
      "Requirement already satisfied: requests<3,>=2.21.0 in c:\\users\\user\\anaconda3\\lib\\site-packages (from tensorboard<2.9,>=2.8->tensorflow) (2.25.1)\n",
      "Requirement already satisfied: werkzeug>=0.11.15 in c:\\users\\user\\anaconda3\\lib\\site-packages (from tensorboard<2.9,>=2.8->tensorflow) (1.0.1)\n",
      "Requirement already satisfied: google-auth-oauthlib<0.5,>=0.4.1 in c:\\users\\user\\anaconda3\\lib\\site-packages (from tensorboard<2.9,>=2.8->tensorflow) (0.4.6)\n",
      "Requirement already satisfied: tensorboard-plugin-wit>=1.6.0 in c:\\users\\user\\anaconda3\\lib\\site-packages (from tensorboard<2.9,>=2.8->tensorflow) (1.8.1)\n",
      "Requirement already satisfied: cachetools<6.0,>=2.0.0 in c:\\users\\user\\anaconda3\\lib\\site-packages (from google-auth<3,>=1.6.3->tensorboard<2.9,>=2.8->tensorflow) (5.0.0)\n",
      "Requirement already satisfied: rsa<5,>=3.1.4 in c:\\users\\user\\anaconda3\\lib\\site-packages (from google-auth<3,>=1.6.3->tensorboard<2.9,>=2.8->tensorflow) (4.8)\n",
      "Requirement already satisfied: pyasn1-modules>=0.2.1 in c:\\users\\user\\anaconda3\\lib\\site-packages (from google-auth<3,>=1.6.3->tensorboard<2.9,>=2.8->tensorflow) (0.2.8)\n",
      "Requirement already satisfied: requests-oauthlib>=0.7.0 in c:\\users\\user\\anaconda3\\lib\\site-packages (from google-auth-oauthlib<0.5,>=0.4.1->tensorboard<2.9,>=2.8->tensorflow) (1.3.1)\n",
      "Requirement already satisfied: importlib-metadata>=4.4 in c:\\users\\user\\anaconda3\\lib\\site-packages (from markdown>=2.6.8->tensorboard<2.9,>=2.8->tensorflow) (4.11.3)\n",
      "Requirement already satisfied: idna<3,>=2.5 in c:\\users\\user\\anaconda3\\lib\\site-packages (from requests<3,>=2.21.0->tensorboard<2.9,>=2.8->tensorflow) (2.10)\n",
      "Requirement already satisfied: chardet<5,>=3.0.2 in c:\\users\\user\\anaconda3\\lib\\site-packages (from requests<3,>=2.21.0->tensorboard<2.9,>=2.8->tensorflow) (4.0.0)\n",
      "Requirement already satisfied: urllib3<1.27,>=1.21.1 in c:\\users\\user\\anaconda3\\lib\\site-packages (from requests<3,>=2.21.0->tensorboard<2.9,>=2.8->tensorflow) (1.26.4)\n",
      "Requirement already satisfied: certifi>=2017.4.17 in c:\\users\\user\\anaconda3\\lib\\site-packages (from requests<3,>=2.21.0->tensorboard<2.9,>=2.8->tensorflow) (2021.10.8)\n",
      "Requirement already satisfied: zipp>=0.5 in c:\\users\\user\\anaconda3\\lib\\site-packages (from importlib-metadata>=4.4->markdown>=2.6.8->tensorboard<2.9,>=2.8->tensorflow) (3.4.1)\n",
      "Requirement already satisfied: pyasn1<0.5.0,>=0.4.6 in c:\\users\\user\\anaconda3\\lib\\site-packages (from pyasn1-modules>=0.2.1->google-auth<3,>=1.6.3->tensorboard<2.9,>=2.8->tensorflow) (0.4.8)\n",
      "Requirement already satisfied: oauthlib>=3.0.0 in c:\\users\\user\\anaconda3\\lib\\site-packages (from requests-oauthlib>=0.7.0->google-auth-oauthlib<0.5,>=0.4.1->tensorboard<2.9,>=2.8->tensorflow) (3.2.0)\n"
     ]
    }
   ],
   "source": [
    "!pip install tensorflow"
   ]
  },
  {
   "cell_type": "code",
   "execution_count": 2,
   "outputs": [
    {
     "name": "stdout",
     "output_type": "stream",
     "text": [
      "Collecting solos\n",
      "  Downloading solos-0.4.1-py3-none-any.whl (65 kB)\n",
      "Collecting youtube-dl\n",
      "  Downloading youtube_dl-2021.12.17-py2.py3-none-any.whl (1.9 MB)\n",
      "Collecting googledrivedownloader\n",
      "  Downloading googledrivedownloader-0.4-py2.py3-none-any.whl (3.9 kB)\n",
      "Collecting Fire\n",
      "  Downloading fire-0.4.0.tar.gz (87 kB)\n",
      "Requirement already satisfied: six in c:\\users\\user\\anaconda3\\lib\\site-packages (from Fire->solos) (1.15.0)\n",
      "Requirement already satisfied: termcolor in c:\\users\\user\\anaconda3\\lib\\site-packages (from Fire->solos) (1.1.0)\n",
      "Building wheels for collected packages: Fire\n",
      "  Building wheel for Fire (setup.py): started\n",
      "  Building wheel for Fire (setup.py): finished with status 'done'\n",
      "  Created wheel for Fire: filename=fire-0.4.0-py2.py3-none-any.whl size=115928 sha256=6e08bcb59399806145c16cf0e7d2fd73e505fe50711c178a67878f03719e534f\n",
      "  Stored in directory: c:\\users\\user\\appdata\\local\\pip\\cache\\wheels\\1f\\10\\06\\2a990ee4d73a8479fe2922445e8a876d38cfbfed052284c6a1\n",
      "Successfully built Fire\n",
      "Installing collected packages: youtube-dl, googledrivedownloader, Fire, solos\n",
      "Successfully installed Fire-0.4.0 googledrivedownloader-0.4 solos-0.4.1 youtube-dl-2021.12.17\n"
     ]
    }
   ],
   "source": [
    "!pip install solos"
   ],
   "metadata": {
    "collapsed": false,
    "pycharm": {
     "name": "#%%\n"
    }
   }
  },
  {
   "cell_type": "code",
   "execution_count": 3,
   "outputs": [
    {
     "name": "stdout",
     "output_type": "stream",
     "text": [
      "Collecting soundfile\n",
      "  Downloading SoundFile-0.10.3.post1-py2.py3.cp26.cp27.cp32.cp33.cp34.cp35.cp36.pp27.pp32.pp33-none-win_amd64.whl (689 kB)\n",
      "Requirement already satisfied: cffi>=1.0 in c:\\users\\user\\anaconda3\\lib\\site-packages (from soundfile) (1.14.5)\n",
      "Requirement already satisfied: pycparser in c:\\users\\user\\anaconda3\\lib\\site-packages (from cffi>=1.0->soundfile) (2.20)\n",
      "Installing collected packages: soundfile\n",
      "Successfully installed soundfile-0.10.3.post1\n"
     ]
    }
   ],
   "source": [
    "!pip install soundfile"
   ],
   "metadata": {
    "collapsed": false,
    "pycharm": {
     "name": "#%%\n"
    }
   }
  },
  {
   "cell_type": "code",
   "execution_count": 15,
   "outputs": [
    {
     "name": "stdout",
     "output_type": "stream",
     "text": [
      "^C\n"
     ]
    }
   ],
   "source": [
    "!pip uninstall torch"
   ],
   "metadata": {
    "collapsed": false,
    "pycharm": {
     "name": "#%%\n"
    }
   }
  },
  {
   "cell_type": "code",
   "execution_count": 14,
   "outputs": [
    {
     "name": "stdout",
     "output_type": "stream",
     "text": [
      "Requirement already satisfied: torchvision in c:\\users\\user\\anaconda3\\lib\\site-packages (0.9.1+cu111)\n",
      "Requirement already satisfied: torchtext in c:\\users\\user\\anaconda3\\lib\\site-packages (0.9.1)\n",
      "Requirement already satisfied: torchaudio in c:\\users\\user\\anaconda3\\lib\\site-packages (0.8.1)\n",
      "Requirement already satisfied: pillow>=4.1.1 in c:\\users\\user\\anaconda3\\lib\\site-packages (from torchvision) (8.2.0)\n",
      "Collecting torch==1.8.1\n",
      "  Using cached torch-1.8.1-cp38-cp38-win_amd64.whl (190.5 MB)\n",
      "Requirement already satisfied: numpy in c:\\users\\user\\anaconda3\\lib\\site-packages (from torchvision) (1.20.1)\n",
      "Requirement already satisfied: typing-extensions in c:\\users\\user\\anaconda3\\lib\\site-packages (from torch==1.8.1->torchvision) (3.7.4.3)\n",
      "Requirement already satisfied: tqdm in c:\\users\\user\\anaconda3\\lib\\site-packages (from torchtext) (4.59.0)\n",
      "Requirement already satisfied: requests in c:\\users\\user\\anaconda3\\lib\\site-packages (from torchtext) (2.25.1)\n",
      "Requirement already satisfied: certifi>=2017.4.17 in c:\\users\\user\\anaconda3\\lib\\site-packages (from requests->torchtext) (2021.10.8)\n",
      "Requirement already satisfied: chardet<5,>=3.0.2 in c:\\users\\user\\anaconda3\\lib\\site-packages (from requests->torchtext) (4.0.0)\n",
      "Requirement already satisfied: idna<3,>=2.5 in c:\\users\\user\\anaconda3\\lib\\site-packages (from requests->torchtext) (2.10)\n",
      "Requirement already satisfied: urllib3<1.27,>=1.21.1 in c:\\users\\user\\anaconda3\\lib\\site-packages (from requests->torchtext) (1.26.4)\n",
      "Installing collected packages: torch\n",
      "  Attempting uninstall: torch\n",
      "    Found existing installation: torch 1.11.0\n",
      "    Uninstalling torch-1.11.0:\n",
      "      Successfully uninstalled torch-1.11.0\n",
      "Successfully installed torch-1.8.1\n"
     ]
    },
    {
     "name": "stderr",
     "output_type": "stream",
     "text": [
      "ERROR: pip's dependency resolver does not currently take into account all the packages that are installed. This behaviour is the source of the following dependency conflicts.\n",
      "torchtree 1.0.0 requires torch>=1.9, but you have torch 1.8.1 which is incompatible.\n"
     ]
    }
   ],
   "source": [
    "!pip install torchvision torchtext torchaudio"
   ],
   "metadata": {
    "collapsed": false,
    "pycharm": {
     "name": "#%%\n"
    }
   }
  },
  {
   "cell_type": "code",
   "execution_count": 12,
   "outputs": [
    {
     "name": "stdout",
     "output_type": "stream",
     "text": [
      "Collecting timm==0.4.12\n",
      "  Downloading timm-0.4.12-py3-none-any.whl (376 kB)\n",
      "     ------------------------------------- 377.0/377.0 KB 11.5 MB/s eta 0:00:00\n",
      "Requirement already satisfied: torch>=1.4 in c:\\users\\user\\anaconda3\\lib\\site-packages (from timm==0.4.12) (1.8.1)\n",
      "Requirement already satisfied: torchvision in c:\\users\\user\\anaconda3\\lib\\site-packages (from timm==0.4.12) (0.9.1+cu111)\n",
      "Requirement already satisfied: typing-extensions in c:\\users\\user\\anaconda3\\lib\\site-packages (from torch>=1.4->timm==0.4.12) (3.7.4.3)\n",
      "Requirement already satisfied: numpy in c:\\users\\user\\anaconda3\\lib\\site-packages (from torch>=1.4->timm==0.4.12) (1.20.1)\n",
      "Requirement already satisfied: pillow>=4.1.1 in c:\\users\\user\\anaconda3\\lib\\site-packages (from torchvision->timm==0.4.12) (8.2.0)\n",
      "Installing collected packages: timm\n",
      "Successfully installed timm-0.4.12\n"
     ]
    }
   ],
   "source": [
    "!pip install timm==0.4.12"
   ],
   "metadata": {
    "collapsed": false,
    "pycharm": {
     "name": "#%%\n"
    }
   }
  },
  {
   "cell_type": "code",
   "execution_count": 2,
   "outputs": [],
   "source": [
    "from tensorflow import keras\n",
    "import tensorflow as tf\n",
    "import json\n",
    "from pathlib import Path\n",
    "import random\n",
    "import numpy as np\n",
    "import os\n",
    "import soundfile as sf"
   ],
   "metadata": {
    "collapsed": false,
    "pycharm": {
     "name": "#%%\n"
    }
   }
  },
  {
   "cell_type": "code",
   "execution_count": 17,
   "outputs": [],
   "source": [
    "class DataManager:\n",
    "    def __init__(self, data_dir, mix_no_min=2, training=True, mix_sources_max_no=4, mix_no_max=7, train_test_split=0.8):\n",
    "\n",
    "        self.data_dir = data_dir\n",
    "        self.type = training\n",
    "        self.multimodal = False\n",
    "        self.mix_no_min = mix_no_min\n",
    "        self.mix_no_max = mix_no_max\n",
    "        self.mix_sources_max_no = mix_sources_max_no\n",
    "        self.train_test_split = train_test_split\n",
    "\n",
    "        self.n_instruments = 13\n",
    "        self.sources = ['Bassoon', 'Cello', 'Clarinet', 'DoubleBass', 'Flute',\n",
    "                        'Horn', 'Oboe', 'Saxophone', 'Trombone', 'Trumpet', 'Tuba', 'Viola', 'Violin']\n",
    "\n",
    "\n",
    "        self.source_weights = [1, 1, 1, 1, 1, 1, 1, 1, 1, 1, 1, 1, 1]\n",
    "        self.down_freq = 8000 # Downsample to this frequency\n",
    "        self.audio_len = 48000 # No of audio samples in each 'snapshot'\n",
    "        self.ft_window_size = 1022\n",
    "        self.ft_hop_size = 256\n",
    "        self.epsilon = 1e-9\n",
    "        self.log_sample_n = 256 # TODO No idea what this does, I'll figure it out later\n",
    "        self.segment_len = 256\n",
    "        self.energy_predicted_sum = 1e-4\n",
    "        self.dummy_spectrogram_size = (14, 2, 512, 256) # For tests\n",
    "\n",
    "        self.metadata = self.load_meta()\n",
    "        self.window = tf.signal.hann_window(self.ft_hop_size)\n",
    "\n",
    "        self.data = {}\n",
    "        self.load_data()\n",
    "\n",
    "        # We will be taking the results seen in papers at face value,\n",
    "        # and using normalised linearised Fourier Transform Spectrogram, and Wiener post processing, alongside ratio masks and L2 loss\n",
    "\n",
    "    def increase_n_mix(self):\n",
    "        if self.mix_no_max < self.mix_sources_max_no:\n",
    "            self.mix_no_max += 1\n",
    "            return True\n",
    "        return False\n",
    "\n",
    "\n",
    "    def load_meta(self):\n",
    "        suffix = \"*.wav\" # Audio file type, doesn't work on mp3\n",
    "        # Note that it's mp3 only\n",
    "        meta = dict([(source, sorted(list((Path(self.data_dir) / (source + \"_wav\")).glob(suffix)))) for source in self.sources])\n",
    "        # A little hard to parse, but here we go\n",
    "        # Makes \"meta\" a dict containing a tuple. The first element is the type of source, i.e. viola, trumpet, etc\n",
    "        # The second is a sorted list of all files in the data directory that match the pattern of source.wav\n",
    "        # (.glob is an operation that yields all file paths matching the pattern)\n",
    "\n",
    "        for source in meta:\n",
    "            source_len = len(meta[source])\n",
    "            if self.type: # True means that it's training\n",
    "                meta[source] = meta[source_len][:int(self.train_test_split * source_len)]\n",
    "            else:\n",
    "                meta[source] = meta[source_len][int(self.train_test_split * source_len) : source_len]\n",
    "            # Literally just a slightly clumsy train test split\n",
    "\n",
    "            for path_index, path in enumerate(meta[source]):\n",
    "                meta[source][path_index] = (path, sf.info(path.as_posix()).frames)\n",
    "        print(meta) # For debugging\n",
    "\n",
    "        return meta\n",
    "\n",
    "\n",
    "    def load_data(self):\n",
    "        for source in self.metadata:\n",
    "            temp = []\n",
    "            for filename, length in self.metadata[source]:\n",
    "                temp.append(tf.constant(\n",
    "                    sf.read(filename.asposix())[0] # Audio stored as a tensor, no idea if this is going to work\n",
    "                ))\n",
    "                print(filename.asposix()) # For debugging\n",
    "            self.data[source] = temp.copy()\n",
    "        print(self.data)\n",
    "\n",
    "    def __len__(self):\n",
    "        return 8000 if self.type == \"train\" else 2000\n",
    "        # Literally just the size of the thing\n",
    "\n",
    "    def __get_item__(self): # This, if it works properly, should basically randomly mix a bunch of sources\n",
    "        instrument_no = random.randint(self.mix_no_min, self.mix_no_max)\n",
    "        sources = tf.zeros((self.n_instruments + 1, self.audio_len))\n",
    "\n",
    "        source_indices = np.random.choice(list(range(self.n_instruments)), size=instrument_no, replace=False,\n",
    "                                          p=np.array(self.source_weights)/sum(self.source_weights))\n",
    "        # Returns a randomly selected set of indices of sources, with weights given by source weights\n",
    "\n",
    "        audio_output = tf.zeros(self.n_instruments)\n",
    "        audio_source_indices = [0]\n",
    "\n",
    "        for instrument in source_indices: # Note that instrument is an int referrering to the instrument index\n",
    "            audio_output[instrument] = 1 # One-hot encoded record of which sources are included\n",
    "            audio_source_indices.append(instrument) # The paper does instrument +1 here, no idea why\n",
    "            source_in_question = self.sources[instrument] # Actual instrument\n",
    "            sample_selected = random.randrange(len(self.data[source_in_question])) # Picks a random source for the instrument\n",
    "            start_pos = random.randrange(len(self.data[source_in_question][instrument]) - self.audio_len)\n",
    "\n",
    "            sources[instrument] = self.data[source_in_question][sample_selected][start_pos:start_pos+self.audio_len]\n",
    "\n",
    "            smax, smin = sources[instrument].max(), sources[instrument].min()\n",
    "            # Finds max and min values of that sample\n",
    "            # This is basically half-assed normalisation\n",
    "            if not np.isclose((smax - smin), [0.0]): # If smax not equals smin, basically\n",
    "                sources[instrument] = (sources[instrument] - smin) / (smax - smin) * 2 - 1\n",
    "            #TODO Fix this damn normalisation\n",
    "\n",
    "        sources[self.n_instruments+1] = sum(sources)/instrument_no # More crappy normalisation, you love to see it\n",
    "        # It's literally the \"average loudness\", I don't know what to expect\n",
    "\n",
    "        return sources, audio_output, audio_source_indices\n"
   ],
   "metadata": {
    "collapsed": false,
    "pycharm": {
     "name": "#%%\n"
    }
   }
  },
  {
   "cell_type": "code",
   "execution_count": 5,
   "outputs": [],
   "source": [
    "import os"
   ],
   "metadata": {
    "collapsed": false,
    "pycharm": {
     "name": "#%%\n"
    }
   }
  },
  {
   "cell_type": "code",
   "execution_count": 10,
   "outputs": [
    {
     "data": {
      "text/plain": "'C:\\\\Users\\\\User\\\\Documents\\\\GitHub\\\\music-decomp\\\\Solos-Files\\\\data_files\\\\audio_wav'"
     },
     "execution_count": 10,
     "metadata": {},
     "output_type": "execute_result"
    }
   ],
   "source": [
    "data_dir_wav = os.path.abspath(r\"..\\..\\Solos-Files\\data_files\\audio_wav\")\n",
    "data_dir_wav"
   ],
   "metadata": {
    "collapsed": false,
    "pycharm": {
     "name": "#%%\n"
    }
   }
  },
  {
   "cell_type": "code",
   "execution_count": 19,
   "outputs": [
    {
     "ename": "KeyError",
     "evalue": "44",
     "output_type": "error",
     "traceback": [
      "\u001B[1;31m---------------------------------------------------------------------------\u001B[0m",
      "\u001B[1;31mKeyError\u001B[0m                                  Traceback (most recent call last)",
      "\u001B[1;32m~\\AppData\\Local\\Temp\\ipykernel_656180\\2910431508.py\u001B[0m in \u001B[0;36m<cell line: 1>\u001B[1;34m()\u001B[0m\n\u001B[1;32m----> 1\u001B[1;33m \u001B[0mdm\u001B[0m \u001B[1;33m=\u001B[0m \u001B[0mDataManager\u001B[0m\u001B[1;33m(\u001B[0m\u001B[0mdata_dir_wav\u001B[0m\u001B[1;33m)\u001B[0m\u001B[1;33m\u001B[0m\u001B[1;33m\u001B[0m\u001B[0m\n\u001B[0m",
      "\u001B[1;32m~\\AppData\\Local\\Temp\\ipykernel_656180\\2135237358.py\u001B[0m in \u001B[0;36m__init__\u001B[1;34m(self, data_dir, mix_no_min, training, mix_sources_max_no, mix_no_max, train_test_split)\u001B[0m\n\u001B[0;32m     26\u001B[0m         \u001B[0mself\u001B[0m\u001B[1;33m.\u001B[0m\u001B[0mdummy_spectrogram_size\u001B[0m \u001B[1;33m=\u001B[0m \u001B[1;33m(\u001B[0m\u001B[1;36m14\u001B[0m\u001B[1;33m,\u001B[0m \u001B[1;36m2\u001B[0m\u001B[1;33m,\u001B[0m \u001B[1;36m512\u001B[0m\u001B[1;33m,\u001B[0m \u001B[1;36m256\u001B[0m\u001B[1;33m)\u001B[0m \u001B[1;31m# For tests\u001B[0m\u001B[1;33m\u001B[0m\u001B[1;33m\u001B[0m\u001B[0m\n\u001B[0;32m     27\u001B[0m \u001B[1;33m\u001B[0m\u001B[0m\n\u001B[1;32m---> 28\u001B[1;33m         \u001B[0mself\u001B[0m\u001B[1;33m.\u001B[0m\u001B[0mmetadata\u001B[0m \u001B[1;33m=\u001B[0m \u001B[0mself\u001B[0m\u001B[1;33m.\u001B[0m\u001B[0mload_meta\u001B[0m\u001B[1;33m(\u001B[0m\u001B[1;33m)\u001B[0m\u001B[1;33m\u001B[0m\u001B[1;33m\u001B[0m\u001B[0m\n\u001B[0m\u001B[0;32m     29\u001B[0m         \u001B[0mself\u001B[0m\u001B[1;33m.\u001B[0m\u001B[0mwindow\u001B[0m \u001B[1;33m=\u001B[0m \u001B[0mtf\u001B[0m\u001B[1;33m.\u001B[0m\u001B[0msignal\u001B[0m\u001B[1;33m.\u001B[0m\u001B[0mhann_window\u001B[0m\u001B[1;33m(\u001B[0m\u001B[0mself\u001B[0m\u001B[1;33m.\u001B[0m\u001B[0mft_hop_size\u001B[0m\u001B[1;33m)\u001B[0m\u001B[1;33m\u001B[0m\u001B[1;33m\u001B[0m\u001B[0m\n\u001B[0;32m     30\u001B[0m \u001B[1;33m\u001B[0m\u001B[0m\n",
      "\u001B[1;32m~\\AppData\\Local\\Temp\\ipykernel_656180\\2135237358.py\u001B[0m in \u001B[0;36mload_meta\u001B[1;34m(self)\u001B[0m\n\u001B[0;32m     54\u001B[0m             \u001B[0msource_len\u001B[0m \u001B[1;33m=\u001B[0m \u001B[0mlen\u001B[0m\u001B[1;33m(\u001B[0m\u001B[0mmeta\u001B[0m\u001B[1;33m[\u001B[0m\u001B[0msource\u001B[0m\u001B[1;33m]\u001B[0m\u001B[1;33m)\u001B[0m\u001B[1;33m\u001B[0m\u001B[1;33m\u001B[0m\u001B[0m\n\u001B[0;32m     55\u001B[0m             \u001B[1;32mif\u001B[0m \u001B[0mself\u001B[0m\u001B[1;33m.\u001B[0m\u001B[0mtype\u001B[0m\u001B[1;33m:\u001B[0m \u001B[1;31m# True means that it's training\u001B[0m\u001B[1;33m\u001B[0m\u001B[1;33m\u001B[0m\u001B[0m\n\u001B[1;32m---> 56\u001B[1;33m                 \u001B[0mmeta\u001B[0m\u001B[1;33m[\u001B[0m\u001B[0msource\u001B[0m\u001B[1;33m]\u001B[0m \u001B[1;33m=\u001B[0m \u001B[0mmeta\u001B[0m\u001B[1;33m[\u001B[0m\u001B[0msource_len\u001B[0m\u001B[1;33m]\u001B[0m\u001B[1;33m[\u001B[0m\u001B[1;33m:\u001B[0m\u001B[0mint\u001B[0m\u001B[1;33m(\u001B[0m\u001B[0mself\u001B[0m\u001B[1;33m.\u001B[0m\u001B[0mtrain_test_split\u001B[0m \u001B[1;33m*\u001B[0m \u001B[0msource_len\u001B[0m\u001B[1;33m)\u001B[0m\u001B[1;33m]\u001B[0m\u001B[1;33m\u001B[0m\u001B[1;33m\u001B[0m\u001B[0m\n\u001B[0m\u001B[0;32m     57\u001B[0m             \u001B[1;32melse\u001B[0m\u001B[1;33m:\u001B[0m\u001B[1;33m\u001B[0m\u001B[1;33m\u001B[0m\u001B[0m\n\u001B[0;32m     58\u001B[0m                 \u001B[0mmeta\u001B[0m\u001B[1;33m[\u001B[0m\u001B[0msource\u001B[0m\u001B[1;33m]\u001B[0m \u001B[1;33m=\u001B[0m \u001B[0mmeta\u001B[0m\u001B[1;33m[\u001B[0m\u001B[0msource_len\u001B[0m\u001B[1;33m]\u001B[0m\u001B[1;33m[\u001B[0m\u001B[0mint\u001B[0m\u001B[1;33m(\u001B[0m\u001B[0mself\u001B[0m\u001B[1;33m.\u001B[0m\u001B[0mtrain_test_split\u001B[0m \u001B[1;33m*\u001B[0m \u001B[0msource_len\u001B[0m\u001B[1;33m)\u001B[0m \u001B[1;33m:\u001B[0m \u001B[0msource_len\u001B[0m\u001B[1;33m]\u001B[0m\u001B[1;33m\u001B[0m\u001B[1;33m\u001B[0m\u001B[0m\n",
      "\u001B[1;31mKeyError\u001B[0m: 44"
     ]
    }
   ],
   "source": [
    "dm = DataManager(data_dir_wav)"
   ],
   "metadata": {
    "collapsed": false,
    "pycharm": {
     "name": "#%%\n"
    }
   }
  }
 ],
 "metadata": {
  "kernelspec": {
   "display_name": "Python 3",
   "language": "python",
   "name": "python3"
  },
  "language_info": {
   "codemirror_mode": {
    "name": "ipython",
    "version": 2
   },
   "file_extension": ".py",
   "mimetype": "text/x-python",
   "name": "python",
   "nbconvert_exporter": "python",
   "pygments_lexer": "ipython2",
   "version": "2.7.6"
  }
 },
 "nbformat": 4,
 "nbformat_minor": 0
}